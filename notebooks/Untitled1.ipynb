{
 "cells": [
  {
   "cell_type": "code",
   "execution_count": 2,
   "id": "012746e1-dbf3-457e-87e9-ad3668f29463",
   "metadata": {},
   "outputs": [],
   "source": [
    "import pynutrien"
   ]
  },
  {
   "cell_type": "code",
   "execution_count": 3,
   "id": "ddb35624-c1fc-46d1-8c86-16a5b72be198",
   "metadata": {},
   "outputs": [],
   "source": [
    "import sys"
   ]
  },
  {
   "cell_type": "code",
   "execution_count": 4,
   "id": "b7921bcd-751d-436b-93c6-4bf37a896b5c",
   "metadata": {},
   "outputs": [
    {
     "data": {
      "text/plain": [
       "['/home/glue_user/workspace/jupyter_workspace',\n",
       " '/home/glue_user/aws-glue-libs/PyGlue.zip',\n",
       " '/home/glue_user/spark/python/lib/py4j-0.10.9-src.zip',\n",
       " '/home/glue_user/spark/python',\n",
       " '/home/glue_user/workspace',\n",
       " '/usr/lib64/python37.zip',\n",
       " '/usr/lib64/python3.7',\n",
       " '/usr/lib64/python3.7/lib-dynload',\n",
       " '',\n",
       " '/home/glue_user/.local/lib/python3.7/site-packages',\n",
       " '/usr/lib64/python3.7/site-packages',\n",
       " '/usr/lib/python3.7/site-packages',\n",
       " '/home/glue_user/.local/lib/python3.7/site-packages/IPython/extensions',\n",
       " '/home/glue_user/.ipython']"
      ]
     },
     "execution_count": 4,
     "metadata": {},
     "output_type": "execute_result"
    }
   ],
   "source": [
    "sys.path"
   ]
  },
  {
   "cell_type": "code",
   "execution_count": 3,
   "id": "9ffce785-23af-4ea4-a9e5-e6bbb567190f",
   "metadata": {},
   "outputs": [
    {
     "name": "stdout",
     "output_type": "stream",
     "text": [
      "Untitled1.ipynb  Untitled.ipynb\n"
     ]
    }
   ],
   "source": [
    "!ls"
   ]
  },
  {
   "cell_type": "code",
   "execution_count": 4,
   "id": "75397d2e-5de0-438e-830e-06e82e5b3fd2",
   "metadata": {},
   "outputs": [
    {
     "name": "stdout",
     "output_type": "stream",
     "text": [
      "AUTHORS.rst\t\texamples     notebooks\t\t   setup.cfg  tox.ini\n",
      "CONTRIBUTING.rst\tHISTORY.rst  pynutrien\t\t   setup.py\n",
      "devops\t\t\t__init__.py  README.rst\t\t   sphinx\n",
      "docker_run_notebook.sh\tMakefile     requirements_dev.txt  template\n",
      "docker_run.sh\t\tMANIFEST.in  requirements.txt\t   tests\n"
     ]
    }
   ],
   "source": [
    "!ls .."
   ]
  },
  {
   "cell_type": "code",
   "execution_count": 6,
   "id": "9745324d-cc9e-412c-86dd-754a0df5dfe7",
   "metadata": {},
   "outputs": [
    {
     "ename": "SyntaxError",
     "evalue": "invalid syntax (<ipython-input-6-29c1538f52e8>, line 1)",
     "output_type": "error",
     "traceback": [
      "\u001b[0;36m  File \u001b[0;32m\"<ipython-input-6-29c1538f52e8>\"\u001b[0;36m, line \u001b[0;32m1\u001b[0m\n\u001b[0;31m    import ..pynutrien\u001b[0m\n\u001b[0m           ^\u001b[0m\n\u001b[0;31mSyntaxError\u001b[0m\u001b[0;31m:\u001b[0m invalid syntax\n"
     ]
    }
   ],
   "source": []
  },
  {
   "cell_type": "code",
   "execution_count": 10,
   "id": "35f13bc2-2bb8-4cfd-989d-80292d68fd1b",
   "metadata": {},
   "outputs": [
    {
     "name": "stdout",
     "output_type": "stream",
     "text": [
      "aws  cdk  db  debug  env  etl  helpers\t__init__.py  logger  spark\n"
     ]
    }
   ],
   "source": [
    "!ls ../pynutrien"
   ]
  },
  {
   "cell_type": "code",
   "execution_count": null,
   "id": "40883f39-22d7-4202-89e3-4132b30009aa",
   "metadata": {},
   "outputs": [],
   "source": []
  }
 ],
 "metadata": {
  "kernelspec": {
   "display_name": "Python 3",
   "language": "python",
   "name": "python3"
  },
  "language_info": {
   "codemirror_mode": {
    "name": "ipython",
    "version": 3
   },
   "file_extension": ".py",
   "mimetype": "text/x-python",
   "name": "python",
   "nbconvert_exporter": "python",
   "pygments_lexer": "ipython3",
   "version": "3.7.10"
  }
 },
 "nbformat": 4,
 "nbformat_minor": 5
}
